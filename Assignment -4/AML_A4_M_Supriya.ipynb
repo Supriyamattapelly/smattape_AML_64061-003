{
  "nbformat": 4,
  "nbformat_minor": 0,
  "metadata": {
    "colab": {
      "provenance": [],
      "gpuClass": "premium"
    },
    "kernelspec": {
      "name": "python3",
      "display_name": "Python 3"
    },
    "language_info": {
      "name": "python"
    },
    "accelerator": "GPU",
    "gpuClass": "premium"
  },
  "cells": [
    {
      "cell_type": "markdown",
      "metadata": {
        "id": "view-in-github"
      },
      "source": [
        "<a href=\"https://colab.research.google.com/github/Chaitanyareddynv/Cnarredd_64061/blob/main/assignment_4.ipynb\" target=\"_parent\"><img src=\"https://colab.research.google.com/assets/colab-badge.svg\" alt=\"Open In Colab\"/></a>"
      ]
    },
    {
      "cell_type": "markdown",
      "source": [
        "**Collecting the Data**\n",
        "\n"
      ],
      "metadata": {
        "id": "SfEf_M_LmW-i"
      }
    },
    {
      "cell_type": "code",
      "source": [
        "!curl -O https://ai.stanford.edu/~amaas/data/sentiment/aclImdb_v1.tar.gz\n",
        "!tar -xf aclImdb_v1.tar.gz\n",
        "!rm -r aclImdb/train/unsup"
      ],
      "metadata": {
        "colab": {
          "base_uri": "https://localhost:8080/"
        },
        "id": "OK_YTOXxSkYp",
        "outputId": "36eaf893-327a-445a-c05e-81b6718db73c"
      },
      "execution_count": 1,
      "outputs": [
        {
          "output_type": "stream",
          "name": "stdout",
          "text": [
            "  % Total    % Received % Xferd  Average Speed   Time    Time     Time  Current\n",
            "                                 Dload  Upload   Total   Spent    Left  Speed\n",
            "100 80.2M  100 80.2M    0     0  5775k      0  0:00:14  0:00:14 --:--:-- 7240k\n"
          ]
        }
      ]
    },
    {
      "cell_type": "markdown",
      "source": [
        "Making the data accessible\n"
      ],
      "metadata": {
        "id": "FxFa4ubQmcPT"
      }
    },
    {
      "cell_type": "code",
      "source": [
        "import os, pathlib, shutil, random\n",
        "from tensorflow import keras\n",
        "batch_size = 32\n",
        "base_dir7= pathlib.Path(\"/content/aclImdb\")\n",
        "val_dir7 = base_dir7/ \"val\"\n",
        "train_dir7 = base_dir7 / \"train\"\n",
        "for category in (\"neg\", \"pos\"):\n",
        "    os.makedirs(val_dir7 / category, exist_ok=True )\n",
        "\n",
        "    files = os.listdir(train_dir7 / category)\n",
        "    random.Random(1337).shuffle(files)\n",
        "    num_val_samples = int(0.2 * len(files))\n",
        "    val_files = files[-num_val_samples:]\n",
        "    for fname in val_files:\n",
        "        shutil.move(train_dir7 / category / fname,\n",
        "                    val_dir7 / category / fname)\n",
        "\n",
        "train_ds = keras.utils.text_dataset_from_directory(\n",
        "    \"aclImdb/train\", batch_size=batch_size\n",
        ").take(150)\n",
        "\n",
        "val_ds = keras.utils.text_dataset_from_directory(\n",
        "    \"/content/aclImdb/val\", batch_size=batch_size\n",
        ")\n",
        "test_ds = keras.utils.text_dataset_from_directory(\n",
        "    \"aclImdb/test\", batch_size=batch_size\n",
        ")\n",
        "text_only_train_ds = train_ds.map(lambda x, y: x)\n"
      ],
      "metadata": {
        "id": "HCTPULw4DkWz",
        "colab": {
          "base_uri": "https://localhost:8080/"
        },
        "outputId": "76dbd358-310c-49cc-93a2-d4f33ff0aae3"
      },
      "execution_count": 2,
      "outputs": [
        {
          "output_type": "stream",
          "name": "stdout",
          "text": [
            "Found 20000 files belonging to 2 classes.\n",
            "Found 5000 files belonging to 2 classes.\n",
            "Found 25000 files belonging to 2 classes.\n"
          ]
        }
      ]
    },
    {
      "cell_type": "markdown",
      "source": [
        "Building the datasets for integer sequences"
      ],
      "metadata": {
        "id": "08v9H-1dmf2d"
      }
    },
    {
      "cell_type": "code",
      "source": [
        "from tensorflow.keras import layers\n",
        "\n",
        "max_length = 150\n",
        "max_tokens = 20000\n",
        "text_vectorization = layers.TextVectorization(\n",
        "    max_tokens=max_tokens,\n",
        "    output_mode=\"int\",\n",
        "    output_sequence_length=max_length,\n",
        ")\n",
        "text_vectorization.adapt(text_only_train_ds)\n",
        "\n",
        "int_train_ds = train_ds.map(\n",
        "    lambda x, y: (text_vectorization(x), y),\n",
        "    num_parallel_calls=4)\n",
        "int_val_ds = val_ds.map(\n",
        "    lambda x, y: (text_vectorization(x), y),\n",
        "    num_parallel_calls=4)\n",
        "int_test_ds = test_ds.map(\n",
        "    lambda x, y: (text_vectorization(x), y),\n",
        "    num_parallel_calls=4)"
      ],
      "metadata": {
        "id": "Qwdim3LtDkh_"
      },
      "execution_count": 3,
      "outputs": []
    },
    {
      "cell_type": "markdown",
      "source": [
        "**A vector sequence model constructed using one-hot encoding**"
      ],
      "metadata": {
        "id": "UeIC--rVmkNw"
      }
    },
    {
      "cell_type": "code",
      "source": [
        "import tensorflow as tf\n",
        "inputs = keras.Input(shape=(None,), dtype=\"int64\")\n",
        "embedded = tf.one_hot(inputs, depth=max_tokens)\n",
        "x = layers.Bidirectional(layers.LSTM(32))(embedded)\n",
        "x = layers.Dropout(0.5)(x)\n",
        "outputs = layers.Dense(1, activation=\"sigmoid\")(x)\n",
        "model = keras.Model(inputs, outputs)\n",
        "model.compile(optimizer=\"rmsprop\",\n",
        "              loss=\"binary_crossentropy\",\n",
        "              metrics=[\"accuracy\"])\n",
        "model.summary()"
      ],
      "metadata": {
        "id": "xHPKcp4TDkqm",
        "colab": {
          "base_uri": "https://localhost:8080/"
        },
        "outputId": "10442499-9518-4edd-a1b6-aac418d82a9b"
      },
      "execution_count": 4,
      "outputs": [
        {
          "output_type": "stream",
          "name": "stdout",
          "text": [
            "Model: \"model\"\n",
            "_________________________________________________________________\n",
            " Layer (type)                Output Shape              Param #   \n",
            "=================================================================\n",
            " input_1 (InputLayer)        [(None, None)]            0         \n",
            "                                                                 \n",
            " tf.one_hot (TFOpLambda)     (None, None, 20000)       0         \n",
            "                                                                 \n",
            " bidirectional (Bidirection  (None, 64)                5128448   \n",
            " al)                                                             \n",
            "                                                                 \n",
            " dropout (Dropout)           (None, 64)                0         \n",
            "                                                                 \n",
            " dense (Dense)               (None, 1)                 65        \n",
            "                                                                 \n",
            "=================================================================\n",
            "Total params: 5128513 (19.56 MB)\n",
            "Trainable params: 5128513 (19.56 MB)\n",
            "Non-trainable params: 0 (0.00 Byte)\n",
            "_________________________________________________________________\n"
          ]
        }
      ]
    },
    {
      "cell_type": "markdown",
      "source": [
        "Developing a basic sequence model intially"
      ],
      "metadata": {
        "id": "pGMmF45lmr2m"
      }
    },
    {
      "cell_type": "code",
      "source": [
        "callbacks = [\n",
        "    keras.callbacks.ModelCheckpoint(\"one_hot_bidir_lstm.x\",\n",
        "                                    save_best_only=True)\n",
        "]\n",
        "model.fit(int_train_ds, validation_data=int_val_ds, epochs=10, callbacks=callbacks)\n",
        "model = keras.models.load_model(\"one_hot_bidir_lstm.x\")\n",
        "print(f\"Test acc: {model.evaluate(int_test_ds)[1]:.3f}\")"
      ],
      "metadata": {
        "id": "haVNKQlBDkuv",
        "colab": {
          "base_uri": "https://localhost:8080/"
        },
        "outputId": "6397e857-06e4-4f3d-c87e-b30062f602e6"
      },
      "execution_count": 5,
      "outputs": [
        {
          "output_type": "stream",
          "name": "stdout",
          "text": [
            "Epoch 1/10\n",
            "150/150 [==============================] - 30s 162ms/step - loss: 0.6887 - accuracy: 0.5390 - val_loss: 0.6311 - val_accuracy: 0.6602\n",
            "Epoch 2/10\n",
            "150/150 [==============================] - 23s 157ms/step - loss: 0.5706 - accuracy: 0.7256 - val_loss: 0.4963 - val_accuracy: 0.7748\n",
            "Epoch 3/10\n",
            "150/150 [==============================] - 14s 95ms/step - loss: 0.4115 - accuracy: 0.8454 - val_loss: 0.6059 - val_accuracy: 0.7520\n",
            "Epoch 4/10\n",
            "150/150 [==============================] - 23s 155ms/step - loss: 0.3148 - accuracy: 0.8921 - val_loss: 0.4056 - val_accuracy: 0.8308\n",
            "Epoch 5/10\n",
            "150/150 [==============================] - 15s 97ms/step - loss: 0.2608 - accuracy: 0.9152 - val_loss: 0.4874 - val_accuracy: 0.7698\n",
            "Epoch 6/10\n",
            "150/150 [==============================] - 14s 95ms/step - loss: 0.2038 - accuracy: 0.9365 - val_loss: 0.4327 - val_accuracy: 0.8174\n",
            "Epoch 7/10\n",
            "150/150 [==============================] - 14s 94ms/step - loss: 0.1765 - accuracy: 0.9504 - val_loss: 0.6025 - val_accuracy: 0.7432\n",
            "Epoch 8/10\n",
            "150/150 [==============================] - 14s 94ms/step - loss: 0.1448 - accuracy: 0.9598 - val_loss: 0.5236 - val_accuracy: 0.8204\n",
            "Epoch 9/10\n",
            "150/150 [==============================] - 14s 96ms/step - loss: 0.1253 - accuracy: 0.9660 - val_loss: 0.4636 - val_accuracy: 0.7828\n",
            "Epoch 10/10\n",
            "150/150 [==============================] - 14s 95ms/step - loss: 0.1019 - accuracy: 0.9735 - val_loss: 0.5631 - val_accuracy: 0.8136\n",
            "782/782 [==============================] - 27s 33ms/step - loss: 0.4080 - accuracy: 0.8244\n",
            "Test acc: 0.824\n"
          ]
        }
      ]
    },
    {
      "cell_type": "markdown",
      "source": [
        "**Using the embedded layer to learn word embeddings**\n",
        "\n",
        "Placing an embedding layer into Action"
      ],
      "metadata": {
        "id": "5PkSSfcHmtTS"
      }
    },
    {
      "cell_type": "code",
      "source": [
        "embedding_layer = layers.Embedding(input_dim=max_tokens, output_dim=256)"
      ],
      "metadata": {
        "id": "gwqOwLSKDkyH"
      },
      "execution_count": 6,
      "outputs": []
    },
    {
      "cell_type": "markdown",
      "source": [
        "Embedding layer model that was trained from scratch"
      ],
      "metadata": {
        "id": "BwlrpDgxm876"
      }
    },
    {
      "cell_type": "code",
      "source": [
        "inputs = keras.Input(shape=(None,), dtype=\"int64\")\n",
        "embedded = layers.Embedding(input_dim=max_tokens, output_dim=256)(inputs)\n",
        "x = layers.Bidirectional(layers.LSTM(32))(embedded)\n",
        "x = layers.Dropout(0.5)(x)\n",
        "outputs = layers.Dense(1, activation=\"sigmoid\")(x)\n",
        "model = keras.Model(inputs, outputs)\n",
        "model.compile(optimizer=\"rmsprop\",\n",
        "              loss=\"binary_crossentropy\",\n",
        "              metrics=[\"accuracy\"])\n",
        "model.summary()\n",
        "\n",
        "callbacks = [\n",
        "    keras.callbacks.ModelCheckpoint(\"embeddings_bidir_gru.x\",\n",
        "                                    save_best_only=True)\n",
        "]\n",
        "model.fit(int_train_ds, validation_data=int_val_ds, epochs=10, callbacks=callbacks)\n",
        "model = keras.models.load_model(\"embeddings_bidir_gru.x\")\n",
        "print(f\"Test acc: {model.evaluate(int_test_ds)[1]:.3f}\")"
      ],
      "metadata": {
        "id": "terl2LwbDky9",
        "colab": {
          "base_uri": "https://localhost:8080/"
        },
        "outputId": "c14ecb01-5d77-4f50-8809-8d91ac7c9adf"
      },
      "execution_count": 7,
      "outputs": [
        {
          "output_type": "stream",
          "name": "stdout",
          "text": [
            "Model: \"model_1\"\n",
            "_________________________________________________________________\n",
            " Layer (type)                Output Shape              Param #   \n",
            "=================================================================\n",
            " input_2 (InputLayer)        [(None, None)]            0         \n",
            "                                                                 \n",
            " embedding_1 (Embedding)     (None, None, 256)         5120000   \n",
            "                                                                 \n",
            " bidirectional_1 (Bidirecti  (None, 64)                73984     \n",
            " onal)                                                           \n",
            "                                                                 \n",
            " dropout_1 (Dropout)         (None, 64)                0         \n",
            "                                                                 \n",
            " dense_1 (Dense)             (None, 1)                 65        \n",
            "                                                                 \n",
            "=================================================================\n",
            "Total params: 5194049 (19.81 MB)\n",
            "Trainable params: 5194049 (19.81 MB)\n",
            "Non-trainable params: 0 (0.00 Byte)\n",
            "_________________________________________________________________\n",
            "Epoch 1/10\n",
            "150/150 [==============================] - 25s 141ms/step - loss: 0.6580 - accuracy: 0.5906 - val_loss: 0.5636 - val_accuracy: 0.7320\n",
            "Epoch 2/10\n",
            "150/150 [==============================] - 17s 112ms/step - loss: 0.4727 - accuracy: 0.7902 - val_loss: 0.4449 - val_accuracy: 0.8040\n",
            "Epoch 3/10\n",
            "150/150 [==============================] - 19s 128ms/step - loss: 0.3262 - accuracy: 0.8790 - val_loss: 0.4435 - val_accuracy: 0.8038\n",
            "Epoch 4/10\n",
            "150/150 [==============================] - 5s 36ms/step - loss: 0.2417 - accuracy: 0.9160 - val_loss: 0.4693 - val_accuracy: 0.8026\n",
            "Epoch 5/10\n",
            "150/150 [==============================] - 8s 55ms/step - loss: 0.1687 - accuracy: 0.9421 - val_loss: 0.4881 - val_accuracy: 0.7886\n",
            "Epoch 6/10\n",
            "150/150 [==============================] - 5s 34ms/step - loss: 0.1187 - accuracy: 0.9663 - val_loss: 0.5798 - val_accuracy: 0.7934\n",
            "Epoch 7/10\n",
            "150/150 [==============================] - 5s 33ms/step - loss: 0.0887 - accuracy: 0.9719 - val_loss: 0.6230 - val_accuracy: 0.7844\n",
            "Epoch 8/10\n",
            "150/150 [==============================] - 4s 28ms/step - loss: 0.0616 - accuracy: 0.9825 - val_loss: 0.6454 - val_accuracy: 0.7688\n",
            "Epoch 9/10\n",
            "150/150 [==============================] - 4s 28ms/step - loss: 0.0564 - accuracy: 0.9856 - val_loss: 0.9262 - val_accuracy: 0.7944\n",
            "Epoch 10/10\n",
            "150/150 [==============================] - 4s 29ms/step - loss: 0.0462 - accuracy: 0.9869 - val_loss: 1.0642 - val_accuracy: 0.7480\n",
            "782/782 [==============================] - 9s 10ms/step - loss: 0.4383 - accuracy: 0.8041\n",
            "Test acc: 0.804\n"
          ]
        }
      ]
    },
    {
      "cell_type": "markdown",
      "source": [
        "Identifying masking and padding\n",
        "\n",
        "Applying masking to an embedded layer"
      ],
      "metadata": {
        "id": "3MP9fVyBnBYJ"
      }
    },
    {
      "cell_type": "code",
      "source": [
        "inputs = keras.Input(shape=(None,), dtype=\"int64\")\n",
        "embedded = layers.Embedding(\n",
        "    input_dim=max_tokens, output_dim=256, mask_zero=True)(inputs)\n",
        "x = layers.Bidirectional(layers.LSTM(32))(embedded)\n",
        "x = layers.Dropout(0.5)(x)\n",
        "outputs = layers.Dense(1, activation=\"sigmoid\")(x)\n",
        "model = keras.Model(inputs, outputs)\n",
        "model.compile(optimizer=\"rmsprop\",\n",
        "              loss=\"binary_crossentropy\",\n",
        "              metrics=[\"accuracy\"])\n",
        "model.summary()\n",
        "\n",
        "callbacks = [\n",
        "    keras.callbacks.ModelCheckpoint(\"embeddings_bidir_gru_with_masking.x\",\n",
        "                                    save_best_only=True)\n",
        "]\n",
        "model.fit(int_train_ds, validation_data=int_val_ds, epochs=10, callbacks=callbacks)\n",
        "model = keras.models.load_model(\"embeddings_bidir_gru_with_masking.x\")\n",
        "print(f\"Test acc: {model.evaluate(int_test_ds)[1]:.3f}\")"
      ],
      "metadata": {
        "id": "IRyFMQ36Dk2I",
        "colab": {
          "base_uri": "https://localhost:8080/"
        },
        "outputId": "78f23c5b-d3e5-45a3-b113-f20816b2110f"
      },
      "execution_count": 8,
      "outputs": [
        {
          "output_type": "stream",
          "name": "stdout",
          "text": [
            "Model: \"model_2\"\n",
            "_________________________________________________________________\n",
            " Layer (type)                Output Shape              Param #   \n",
            "=================================================================\n",
            " input_3 (InputLayer)        [(None, None)]            0         \n",
            "                                                                 \n",
            " embedding_2 (Embedding)     (None, None, 256)         5120000   \n",
            "                                                                 \n",
            " bidirectional_2 (Bidirecti  (None, 64)                73984     \n",
            " onal)                                                           \n",
            "                                                                 \n",
            " dropout_2 (Dropout)         (None, 64)                0         \n",
            "                                                                 \n",
            " dense_2 (Dense)             (None, 1)                 65        \n",
            "                                                                 \n",
            "=================================================================\n",
            "Total params: 5194049 (19.81 MB)\n",
            "Trainable params: 5194049 (19.81 MB)\n",
            "Non-trainable params: 0 (0.00 Byte)\n",
            "_________________________________________________________________\n",
            "Epoch 1/10\n",
            "150/150 [==============================] - 39s 211ms/step - loss: 0.6486 - accuracy: 0.6140 - val_loss: 0.5230 - val_accuracy: 0.7464\n",
            "Epoch 2/10\n",
            "150/150 [==============================] - 26s 173ms/step - loss: 0.4391 - accuracy: 0.8042 - val_loss: 0.4275 - val_accuracy: 0.8092\n",
            "Epoch 3/10\n",
            "150/150 [==============================] - 7s 49ms/step - loss: 0.2867 - accuracy: 0.8921 - val_loss: 0.4516 - val_accuracy: 0.8112\n",
            "Epoch 4/10\n",
            "150/150 [==============================] - 6s 43ms/step - loss: 0.1912 - accuracy: 0.9342 - val_loss: 0.4315 - val_accuracy: 0.8194\n",
            "Epoch 5/10\n",
            "150/150 [==============================] - 5s 36ms/step - loss: 0.1319 - accuracy: 0.9569 - val_loss: 0.4410 - val_accuracy: 0.8194\n",
            "Epoch 6/10\n",
            "150/150 [==============================] - 6s 40ms/step - loss: 0.1000 - accuracy: 0.9690 - val_loss: 0.5987 - val_accuracy: 0.7968\n",
            "Epoch 7/10\n",
            "150/150 [==============================] - 5s 32ms/step - loss: 0.0683 - accuracy: 0.9783 - val_loss: 0.5463 - val_accuracy: 0.8090\n",
            "Epoch 8/10\n",
            "150/150 [==============================] - 6s 38ms/step - loss: 0.0456 - accuracy: 0.9873 - val_loss: 0.5421 - val_accuracy: 0.8146\n",
            "Epoch 9/10\n",
            "150/150 [==============================] - 6s 40ms/step - loss: 0.0390 - accuracy: 0.9879 - val_loss: 0.6090 - val_accuracy: 0.8044\n",
            "Epoch 10/10\n",
            "150/150 [==============================] - 7s 47ms/step - loss: 0.0229 - accuracy: 0.9933 - val_loss: 0.8317 - val_accuracy: 0.7948\n",
            "782/782 [==============================] - 9s 9ms/step - loss: 0.4304 - accuracy: 0.8055\n",
            "Test acc: 0.806\n"
          ]
        }
      ]
    },
    {
      "cell_type": "markdown",
      "source": [
        "**Pretrained word embeddings are used**"
      ],
      "metadata": {
        "id": "o86_AagPnInn"
      }
    },
    {
      "cell_type": "code",
      "source": [
        "!wget http://nlp.stanford.edu/data/glove.6B.zip\n",
        "!unzip -q glove.6B.zip"
      ],
      "metadata": {
        "id": "-mN0wzxSDk51",
        "colab": {
          "base_uri": "https://localhost:8080/"
        },
        "outputId": "3afeaa08-1ffd-4c3a-e6ca-09937d720957"
      },
      "execution_count": 9,
      "outputs": [
        {
          "output_type": "stream",
          "name": "stdout",
          "text": [
            "--2024-04-19 04:05:47--  http://nlp.stanford.edu/data/glove.6B.zip\n",
            "Resolving nlp.stanford.edu (nlp.stanford.edu)... 171.64.67.140\n",
            "Connecting to nlp.stanford.edu (nlp.stanford.edu)|171.64.67.140|:80... connected.\n",
            "HTTP request sent, awaiting response... 302 Found\n",
            "Location: https://nlp.stanford.edu/data/glove.6B.zip [following]\n",
            "--2024-04-19 04:05:47--  https://nlp.stanford.edu/data/glove.6B.zip\n",
            "Connecting to nlp.stanford.edu (nlp.stanford.edu)|171.64.67.140|:443... connected.\n",
            "HTTP request sent, awaiting response... 301 Moved Permanently\n",
            "Location: https://downloads.cs.stanford.edu/nlp/data/glove.6B.zip [following]\n",
            "--2024-04-19 04:05:47--  https://downloads.cs.stanford.edu/nlp/data/glove.6B.zip\n",
            "Resolving downloads.cs.stanford.edu (downloads.cs.stanford.edu)... 171.64.64.22\n",
            "Connecting to downloads.cs.stanford.edu (downloads.cs.stanford.edu)|171.64.64.22|:443... connected.\n",
            "HTTP request sent, awaiting response... 200 OK\n",
            "Length: 862182613 (822M) [application/zip]\n",
            "Saving to: ‘glove.6B.zip’\n",
            "\n",
            "glove.6B.zip        100%[===================>] 822.24M  5.02MB/s    in 2m 38s  \n",
            "\n",
            "2024-04-19 04:08:26 (5.19 MB/s) - ‘glove.6B.zip’ saved [862182613/862182613]\n",
            "\n"
          ]
        }
      ]
    },
    {
      "cell_type": "markdown",
      "source": [
        "Interpreting the GloVe word-embeddings file"
      ],
      "metadata": {
        "id": "X835rtwDnk6Z"
      }
    },
    {
      "cell_type": "code",
      "source": [
        "import numpy as np\n",
        "path_to_glove_file = \"glove.6B.100d.txt\"\n",
        "\n",
        "embeddings_index = {}\n",
        "with open(path_to_glove_file) as f:\n",
        "    for line in f:\n",
        "        word, coefs = line.split(maxsplit=1)\n",
        "        coefs = np.fromstring(coefs, \"f\", sep=\" \")\n",
        "        embeddings_index[word] = coefs\n",
        "\n",
        "print(f\"Found {len(embeddings_index)} word vectors.\")"
      ],
      "metadata": {
        "id": "MOLlubx2Dk_7",
        "colab": {
          "base_uri": "https://localhost:8080/"
        },
        "outputId": "972788e7-4761-4815-f9a4-17e349e8bf46"
      },
      "execution_count": 10,
      "outputs": [
        {
          "output_type": "stream",
          "name": "stdout",
          "text": [
            "Found 400000 word vectors.\n"
          ]
        }
      ]
    },
    {
      "cell_type": "markdown",
      "source": [
        "Setting up the matrix for GloVe word embeddings"
      ],
      "metadata": {
        "id": "RRyuVIv_nofQ"
      }
    },
    {
      "cell_type": "code",
      "source": [
        "embedding_dim = 100\n",
        "\n",
        "vocabulary = text_vectorization.get_vocabulary()\n",
        "word_index = dict(zip(vocabulary, range(len(vocabulary))))\n",
        "\n",
        "embedding_matrix = np.zeros((max_tokens, embedding_dim))\n",
        "for word, i in word_index.items():\n",
        "    if i < max_tokens:\n",
        "        embedding_vector = embeddings_index.get(word)\n",
        "    if embedding_vector is not None:\n",
        "        embedding_matrix[i] = embedding_vector"
      ],
      "metadata": {
        "id": "qiz6_gW3EaO0"
      },
      "execution_count": 11,
      "outputs": []
    },
    {
      "cell_type": "code",
      "source": [
        "embedding_layer = layers.Embedding(\n",
        "    max_tokens,\n",
        "    embedding_dim,\n",
        "    embeddings_initializer=keras.initializers.Constant(embedding_matrix),\n",
        "    trainable=False,\n",
        "    mask_zero=True,\n",
        ")"
      ],
      "metadata": {
        "id": "XvhY89MEEaVf"
      },
      "execution_count": 12,
      "outputs": []
    },
    {
      "cell_type": "markdown",
      "source": [
        "**Embedding layer model with pretrained technique**"
      ],
      "metadata": {
        "id": "a1WNTUOnnx_e"
      }
    },
    {
      "cell_type": "code",
      "source": [
        "inputs = keras.Input(shape=(None,), dtype=\"int64\")\n",
        "embedded = embedding_layer(inputs)\n",
        "x = layers.Bidirectional(layers.LSTM(32))(embedded)\n",
        "x = layers.Dropout(0.5)(x)\n",
        "outputs = layers.Dense(1, activation=\"sigmoid\")(x)\n",
        "model = keras.Model(inputs, outputs)\n",
        "model.compile(optimizer=\"rmsprop\",\n",
        "              loss=\"binary_crossentropy\",\n",
        "              metrics=[\"accuracy\"])\n",
        "model.summary()\n",
        "\n",
        "callbacks = [\n",
        "    keras.callbacks.ModelCheckpoint(\"glove_embeddings_sequence_model.x\",\n",
        "                                    save_best_only=True)\n",
        "]\n",
        "model.fit(int_train_ds, validation_data=int_val_ds, epochs=10, callbacks=callbacks)\n",
        "model = keras.models.load_model(\"glove_embeddings_sequence_model.x\")\n",
        "print(f\"Test acc: {model.evaluate(int_test_ds)[1]:.3f}\")"
      ],
      "metadata": {
        "id": "lom9Mui-EaZ-",
        "colab": {
          "base_uri": "https://localhost:8080/"
        },
        "outputId": "396296e3-4c7a-4f12-f143-dd1c0219e55b"
      },
      "execution_count": 13,
      "outputs": [
        {
          "output_type": "stream",
          "name": "stdout",
          "text": [
            "Model: \"model_3\"\n",
            "_________________________________________________________________\n",
            " Layer (type)                Output Shape              Param #   \n",
            "=================================================================\n",
            " input_4 (InputLayer)        [(None, None)]            0         \n",
            "                                                                 \n",
            " embedding_3 (Embedding)     (None, None, 100)         2000000   \n",
            "                                                                 \n",
            " bidirectional_3 (Bidirecti  (None, 64)                34048     \n",
            " onal)                                                           \n",
            "                                                                 \n",
            " dropout_3 (Dropout)         (None, 64)                0         \n",
            "                                                                 \n",
            " dense_3 (Dense)             (None, 1)                 65        \n",
            "                                                                 \n",
            "=================================================================\n",
            "Total params: 2034113 (7.76 MB)\n",
            "Trainable params: 34113 (133.25 KB)\n",
            "Non-trainable params: 2000000 (7.63 MB)\n",
            "_________________________________________________________________\n",
            "Epoch 1/10\n",
            "150/150 [==============================] - 51s 262ms/step - loss: 0.6710 - accuracy: 0.5779 - val_loss: 0.6143 - val_accuracy: 0.6692\n",
            "Epoch 2/10\n",
            "150/150 [==============================] - 47s 312ms/step - loss: 0.5956 - accuracy: 0.6917 - val_loss: 0.5751 - val_accuracy: 0.6982\n",
            "Epoch 3/10\n",
            "150/150 [==============================] - 49s 330ms/step - loss: 0.5523 - accuracy: 0.7221 - val_loss: 0.5250 - val_accuracy: 0.7446\n",
            "Epoch 4/10\n",
            "150/150 [==============================] - 38s 254ms/step - loss: 0.5202 - accuracy: 0.7462 - val_loss: 0.4953 - val_accuracy: 0.7618\n",
            "Epoch 5/10\n",
            "150/150 [==============================] - 44s 295ms/step - loss: 0.4892 - accuracy: 0.7638 - val_loss: 0.4869 - val_accuracy: 0.7678\n",
            "Epoch 6/10\n",
            "150/150 [==============================] - 54s 364ms/step - loss: 0.4749 - accuracy: 0.7783 - val_loss: 0.4634 - val_accuracy: 0.7828\n",
            "Epoch 7/10\n",
            "150/150 [==============================] - 42s 283ms/step - loss: 0.4591 - accuracy: 0.7898 - val_loss: 0.4631 - val_accuracy: 0.7832\n",
            "Epoch 8/10\n",
            "150/150 [==============================] - 4s 28ms/step - loss: 0.4434 - accuracy: 0.7950 - val_loss: 0.4699 - val_accuracy: 0.7770\n",
            "Epoch 9/10\n",
            "150/150 [==============================] - 38s 255ms/step - loss: 0.4273 - accuracy: 0.8077 - val_loss: 0.4491 - val_accuracy: 0.7908\n",
            "Epoch 10/10\n",
            "150/150 [==============================] - 8s 51ms/step - loss: 0.4127 - accuracy: 0.8138 - val_loss: 0.4503 - val_accuracy: 0.7836\n",
            "782/782 [==============================] - 16s 16ms/step - loss: 0.4590 - accuracy: 0.7840\n",
            "Test acc: 0.784\n"
          ]
        }
      ]
    }
  ]
}