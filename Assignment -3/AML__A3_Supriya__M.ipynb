{
  "nbformat": 4,
  "nbformat_minor": 0,
  "metadata": {
    "colab": {
      "provenance": []
    },
    "kernelspec": {
      "name": "python3",
      "display_name": "Python 3"
    },
    "language_info": {
      "name": "python"
    }
  },
  "cells": [
    {
      "cell_type": "markdown",
      "source": [
        "##Deep learning for the time series\n"
      ],
      "metadata": {
        "id": "H-_zl8CDI9to"
      }
    },
    {
      "cell_type": "markdown",
      "source": [
        "**Numerous timeseries task types**"
      ],
      "metadata": {
        "id": "IccJnYbcJXtC"
      }
    },
    {
      "cell_type": "markdown",
      "source": [
        "##An example of temperature forecasting"
      ],
      "metadata": {
        "id": "Ew7JkwQqJmk4"
      }
    },
    {
      "cell_type": "code",
      "execution_count": 1,
      "metadata": {
        "colab": {
          "base_uri": "https://localhost:8080/"
        },
        "id": "vDHFCxm3LdEe",
        "outputId": "833d118d-fce4-47cf-a318-17a2b21fa619"
      },
      "outputs": [
        {
          "output_type": "stream",
          "name": "stdout",
          "text": [
            "--2024-04-07 20:09:38--  https://s3.amazonaws.com/keras-datasets/jena_climate_2009_2016.csv.zip\n",
            "Resolving s3.amazonaws.com (s3.amazonaws.com)... 52.216.212.48, 54.231.231.96, 16.182.69.240, ...\n",
            "Connecting to s3.amazonaws.com (s3.amazonaws.com)|52.216.212.48|:443... connected.\n",
            "HTTP request sent, awaiting response... 200 OK\n",
            "Length: 13565642 (13M) [application/zip]\n",
            "Saving to: ‘jena_climate_2009_2016.csv.zip’\n",
            "\n",
            "jena_climate_2009_2 100%[===================>]  12.94M  34.9MB/s    in 0.4s    \n",
            "\n",
            "2024-04-07 20:09:39 (34.9 MB/s) - ‘jena_climate_2009_2016.csv.zip’ saved [13565642/13565642]\n",
            "\n",
            "Archive:  jena_climate_2009_2016.csv.zip\n",
            "  inflating: jena_climate_2009_2016.csv  \n",
            "  inflating: __MACOSX/._jena_climate_2009_2016.csv  \n"
          ]
        }
      ],
      "source": [
        "!wget https://s3.amazonaws.com/keras-datasets/jena_climate_2009_2016.csv.zip\n",
        "!unzip jena_climate_2009_2016.csv.zip"
      ]
    },
    {
      "cell_type": "markdown",
      "source": [
        "**Studying the Jena weather dataset's data**\n"
      ],
      "metadata": {
        "id": "IQ1d5OJrLuKW"
      }
    },
    {
      "cell_type": "code",
      "source": [
        "import os\n",
        "fname = os.path.join(\"jena_climate_2009_2016.csv\")\n",
        "with open(fname) as f:\n",
        "    data = f.read()\n",
        "\n",
        "lines_data_data = data.split(\"\\n\")\n",
        "header = lines_data_data[0].split(\",\")\n",
        "lines_data_data= lines_data_data[1:]\n",
        "print(header)\n",
        "print(len(lines_data_data))"
      ],
      "metadata": {
        "colab": {
          "base_uri": "https://localhost:8080/"
        },
        "id": "-tGmYOFxLk8z",
        "outputId": "d7000a1b-7ddd-49ad-a166-ba8084d8bc3c"
      },
      "execution_count": 3,
      "outputs": [
        {
          "output_type": "stream",
          "name": "stdout",
          "text": [
            "['\"Date Time\"', '\"p (mbar)\"', '\"T (degC)\"', '\"Tpot (K)\"', '\"Tdew (degC)\"', '\"rh (%)\"', '\"VPmax (mbar)\"', '\"VPact (mbar)\"', '\"VPdef (mbar)\"', '\"sh (g/kg)\"', '\"H2OC (mmol/mol)\"', '\"rho (g/m**3)\"', '\"wv (m/s)\"', '\"max. wv (m/s)\"', '\"wd (deg)\"']\n",
            "420451\n"
          ]
        }
      ]
    },
    {
      "cell_type": "markdown",
      "source": [
        "**Analyzing the information**"
      ],
      "metadata": {
        "id": "i--S2pVpMho_"
      }
    },
    {
      "cell_type": "code",
      "source": [
        "!pip install numpy"
      ],
      "metadata": {
        "colab": {
          "base_uri": "https://localhost:8080/"
        },
        "id": "ZMmlPvupRS7d",
        "outputId": "9a3f742b-aee0-4e3e-9899-85bdadbf0026"
      },
      "execution_count": 6,
      "outputs": [
        {
          "output_type": "stream",
          "name": "stdout",
          "text": [
            "Requirement already satisfied: numpy in /usr/local/lib/python3.10/dist-packages (1.25.2)\n"
          ]
        }
      ]
    },
    {
      "cell_type": "code",
      "source": [
        "import numpy as np"
      ],
      "metadata": {
        "id": "Z8KrdKhQRWcH"
      },
      "execution_count": 11,
      "outputs": []
    },
    {
      "cell_type": "code",
      "source": [
        "temperature = np.zeros((len(lines_data_data),))\n",
        "raw_data = np.zeros((len(lines_data_data), len(header) - 1))\n",
        "for i, line in enumerate(lines_data_data):\n",
        "    values = [float(x) for x in line.split(\",\")[1:]]\n",
        "    temperature[i] = values[1]\n",
        "    raw_data[i, :] = values[:]"
      ],
      "metadata": {
        "id": "Opqpeu3yR6dG"
      },
      "execution_count": 12,
      "outputs": []
    },
    {
      "cell_type": "markdown",
      "source": [
        "**Plotting the time series of temperature**"
      ],
      "metadata": {
        "id": "jB0NRI3eSNvS"
      }
    },
    {
      "cell_type": "code",
      "source": [
        "from matplotlib import pyplot as plt\n",
        "plt.plot(range(len(temperature)), temperature)"
      ],
      "metadata": {
        "colab": {
          "base_uri": "https://localhost:8080/",
          "height": 451
        },
        "id": "ZJDe-YaMSNRJ",
        "outputId": "95bf5c42-0f0d-4838-9c45-1a78cc9b9482"
      },
      "execution_count": 13,
      "outputs": [
        {
          "output_type": "execute_result",
          "data": {
            "text/plain": [
              "[<matplotlib.lines.Line2D at 0x7bc79f24c100>]"
            ]
          },
          "metadata": {},
          "execution_count": 13
        },
        {
          "output_type": "display_data",
          "data": {
            "text/plain": [
              "<Figure size 640x480 with 1 Axes>"
            ],
            "image/png": "[encoded data removed]"
          },
          "metadata": {}
        }
      ]
    },
    {
      "cell_type": "markdown",
      "source": [
        "**Plotting the temperature timeseries for the initial 10 days**"
      ],
      "metadata": {
        "id": "KCVAFOASSenI"
      }
    },
    {
      "cell_type": "code",
      "source": [
        "plt.plot(range(1250), temperature[:1250])\n"
      ],
      "metadata": {
        "colab": {
          "base_uri": "https://localhost:8080/",
          "height": 447
        },
        "id": "8BMFWiH_SsUq",
        "outputId": "3a9f2cb1-1923-4399-92d8-843df01547f0"
      },
      "execution_count": 14,
      "outputs": [
        {
          "output_type": "execute_result",
          "data": {
            "text/plain": [
              "[<matplotlib.lines.Line2D at 0x7bc79e530af0>]"
            ]
          },
          "metadata": {},
          "execution_count": 14
        },
        {
          "output_type": "display_data",
          "data": {
            "text/plain": [
              "<Figure size 640x480 with 1 Axes>"
            ],
            "image/png": "[encoded data removed]"
          },
          "metadata": {}
        }
      ]
    },
    {
      "cell_type": "markdown",
      "source": [
        "**Calculating out how many samples we utilise for every data split**"
      ],
      "metadata": {
        "id": "DI6OFiU-TFs7"
      }
    },
    {
      "cell_type": "code",
      "source": [
        "num_training_samples = int(0.2 * len(raw_data))\n",
        "num_validation_samples = int(0.15 * len(raw_data))\n",
        "num_test_samples = len(raw_data) - num_training_samples - num_validation_samples\n",
        "print(\"num_training_samples:\", num_training_samples)\n",
        "print(\"num_validation_samples:\", num_validation_samples)\n",
        "print(\"num_test_samples:\", num_test_samples)\n"
      ],
      "metadata": {
        "colab": {
          "base_uri": "https://localhost:8080/"
        },
        "id": "qmo3wnYlTRp9",
        "outputId": "0afa095d-5232-4a18-9c45-a3d820605d43"
      },
      "execution_count": 15,
      "outputs": [
        {
          "output_type": "stream",
          "name": "stdout",
          "text": [
            "num_training_samples: 84090\n",
            "num_validation_samples: 63067\n",
            "num_test_samples: 273294\n"
          ]
        }
      ]
    },
    {
      "cell_type": "markdown",
      "source": [
        "##Preparing the Data"
      ],
      "metadata": {
        "id": "96z8j1Y2Tb15"
      }
    },
    {
      "cell_type": "markdown",
      "source": [
        "Normalizing the Data"
      ],
      "metadata": {
        "id": "rnrfwPm6TkmC"
      }
    },
    {
      "cell_type": "code",
      "source": [
        "mean = raw_data[:num_training_samples].mean(axis=0)\n",
        "raw_data -= mean\n",
        "std = raw_data[:num_training_samples].std(axis=0)\n",
        "raw_data /= std\n",
        "import numpy as np\n",
        "from tensorflow import keras\n",
        "initial_sequence = np.arange(10)\n",
        "dummy_data = keras.utils.timeseries_dataset_from_array(\n",
        "data=initial_sequence[:-2],\n",
        "targets=initial_sequence[2:],\n",
        "sequence_length=4,\n",
        "batch_size=1,\n",
        ")\n",
        "for inputs, targets in dummy_data:\n",
        "    for i in range(inputs.shape[0]):\n",
        "        print([int(x) for x in inputs[i]], int(targets[i]))"
      ],
      "metadata": {
        "colab": {
          "base_uri": "https://localhost:8080/"
        },
        "id": "UVd71NXaUiac",
        "outputId": "e7842d70-e8d1-46b7-f7f3-461d1a1762f4"
      },
      "execution_count": 17,
      "outputs": [
        {
          "output_type": "stream",
          "name": "stdout",
          "text": [
            "[0, 1, 2, 3] 2\n",
            "[1, 2, 3, 4] 3\n",
            "[2, 3, 4, 5] 4\n",
            "[3, 4, 5, 6] 5\n",
            "[4, 5, 6, 7] 6\n"
          ]
        }
      ]
    },
    {
      "cell_type": "markdown",
      "source": [
        "**Developing datasets in real time for testing, validation, and training**"
      ],
      "metadata": {
        "id": "6SsScw5OVJiy"
      }
    },
    {
      "cell_type": "code",
      "source": [
        "sampling_rate = 4\n",
        "sequence_length = 80\n",
        "delay = sampling_rate * (sequence_length + 24 - 1)\n",
        "batch_size = 128\n",
        "\n",
        "training_dataset = keras.utils.timeseries_dataset_from_array(\n",
        "raw_data[:-delay],\n",
        "targets=temperature[delay:],\n",
        "sampling_rate=sampling_rate,\n",
        "sequence_length=sequence_length,\n",
        "shuffle=True,\n",
        "batch_size=batch_size,\n",
        "start_index=0,\n",
        "end_index=num_training_samples)\n",
        "\n",
        "validation_dataset = keras.utils.timeseries_dataset_from_array(\n",
        "raw_data[:-delay],\n",
        "targets=temperature[delay:],\n",
        "sampling_rate=sampling_rate,\n",
        "sequence_length=sequence_length,\n",
        "shuffle=True,\n",
        "batch_size=batch_size,\n",
        "start_index=num_training_samples,\n",
        "end_index=num_training_samples + num_validation_samples)\n",
        "\n",
        "test_dataset = keras.utils.timeseries_dataset_from_array(\n",
        "raw_data[:-delay],\n",
        "targets=temperature[delay:],\n",
        "sampling_rate=sampling_rate,\n",
        "sequence_length=sequence_length,\n",
        "shuffle=True,\n",
        "batch_size=batch_size,\n",
        "start_index=num_training_samples + num_validation_samples)"
      ],
      "metadata": {
        "id": "jEifcw9oVL2O"
      },
      "execution_count": 18,
      "outputs": []
    },
    {
      "cell_type": "markdown",
      "source": [
        "**Examining the output of one of our datasets**"
      ],
      "metadata": {
        "id": "nC6bz3BIVgx4"
      }
    },
    {
      "cell_type": "code",
      "source": [
        "for samples, targets in training_dataset:\n",
        "    print(\"samples shape:\", samples.shape)\n",
        "    print(\"targets shape:\", targets.shape)\n",
        "    break\n"
      ],
      "metadata": {
        "colab": {
          "base_uri": "https://localhost:8080/"
        },
        "id": "qMNiT4sbVt05",
        "outputId": "277fb280-98f9-48b7-aa28-0601ca3c9cbf"
      },
      "execution_count": 19,
      "outputs": [
        {
          "output_type": "stream",
          "name": "stdout",
          "text": [
            "samples shape: (128, 80, 14)\n",
            "targets shape: (128,)\n"
          ]
        }
      ]
    },
    {
      "cell_type": "markdown",
      "source": [
        "##A sensible, non-machine-learning baseline"
      ],
      "metadata": {
        "id": "kWUQ1VI_WGUs"
      }
    },
    {
      "cell_type": "markdown",
      "source": [
        "Calculating the sensible baseline MAE\n"
      ],
      "metadata": {
        "id": "UbJP6Vy-WJsH"
      }
    },
    {
      "cell_type": "code",
      "source": [
        "def evaluate_naive_method(dataset):\n",
        "    total_abs_err = 0.\n",
        "    samples_seen = 0\n",
        "    for samples, targets in dataset:\n",
        "        preds = samples[:, -1, 1] * std[1] + mean[1]\n",
        "        total_abs_err += np.sum(np.abs(preds - targets))\n",
        "        samples_seen += samples.shape[0]\n",
        "    return total_abs_err / samples_seen\n",
        "print(f\"Validation MAE: {evaluate_naive_method(validation_dataset):.2f}\")\n",
        "print(f\"Test MAE: {evaluate_naive_method(test_dataset):.2f}\")\n"
      ],
      "metadata": {
        "colab": {
          "base_uri": "https://localhost:8080/"
        },
        "id": "ejA4MGKJWQWM",
        "outputId": "3122ef44-2ad0-402a-9cc6-343642ead140"
      },
      "execution_count": 21,
      "outputs": [
        {
          "output_type": "stream",
          "name": "stdout",
          "text": [
            "Validation MAE: 4.53\n",
            "Test MAE: 4.08\n"
          ]
        }
      ]
    },
    {
      "cell_type": "markdown",
      "source": [
        "##Let us attempt a simple machine-learning model"
      ],
      "metadata": {
        "id": "9MFPlQDhXSjn"
      }
    },
    {
      "cell_type": "markdown",
      "source": [
        "**Utilizing a tightly connected model through training and assessment**"
      ],
      "metadata": {
        "id": "KuL9d8SpXVI0"
      }
    },
    {
      "cell_type": "code",
      "source": [
        "from tensorflow import keras\n",
        "from tensorflow.keras import layers\n",
        "inputs = keras.Input(shape=(sequence_length, raw_data.shape[-1]))\n",
        "x = layers.Flatten()(inputs)\n",
        "x = layers.Dense(16, activation=\"relu\")(x)\n",
        "outputs = layers.Dense(1)(x)\n",
        "model = keras.Model(inputs, outputs)\n",
        "callbacks = [\n",
        "keras.callbacks.ModelCheckpoint(\"jena_dense.x\",\n",
        "save_best_only=True)\n",
        "]\n",
        "model.compile(optimizer=\"rmsprop\", loss=\"mse\", metrics=[\"mae\"])\n",
        "history = model.fit(training_dataset,\n",
        "epochs=10,\n",
        "validation_data=validation_dataset,\n",
        "callbacks=callbacks)\n",
        "model = keras.models.load_model(\"jena_dense.x\")\n",
        "print(f\"Test MAE: {model.evaluate(test_dataset)[1]:.2f}\")"
      ],
      "metadata": {
        "colab": {
          "base_uri": "https://localhost:8080/"
        },
        "id": "LgofIiO8X1IS",
        "outputId": "43f5184c-dc7d-42e9-933f-20d40001fa0b"
      },
      "execution_count": 22,
      "outputs": [
        {
          "output_type": "stream",
          "name": "stdout",
          "text": [
            "Epoch 1/10\n",
            "655/655 [==============================] - 24s 35ms/step - loss: 11.3950 - mae: 2.5707 - val_loss: 9.7297 - val_mae: 2.4735\n",
            "Epoch 2/10\n",
            "655/655 [==============================] - 20s 30ms/step - loss: 7.3463 - mae: 2.1258 - val_loss: 11.6832 - val_mae: 2.7249\n",
            "Epoch 3/10\n",
            "655/655 [==============================] - 24s 36ms/step - loss: 6.7285 - mae: 2.0360 - val_loss: 9.5312 - val_mae: 2.4503\n",
            "Epoch 4/10\n",
            "655/655 [==============================] - 20s 31ms/step - loss: 6.3394 - mae: 1.9733 - val_loss: 10.0457 - val_mae: 2.4907\n",
            "Epoch 5/10\n",
            "655/655 [==============================] - 23s 34ms/step - loss: 6.0823 - mae: 1.9351 - val_loss: 9.9473 - val_mae: 2.4935\n",
            "Epoch 6/10\n",
            "655/655 [==============================] - 23s 34ms/step - loss: 5.9037 - mae: 1.9061 - val_loss: 9.7822 - val_mae: 2.4737\n",
            "Epoch 7/10\n",
            "655/655 [==============================] - 21s 32ms/step - loss: 5.7188 - mae: 1.8762 - val_loss: 9.8263 - val_mae: 2.4752\n",
            "Epoch 8/10\n",
            "655/655 [==============================] - 20s 31ms/step - loss: 5.5539 - mae: 1.8512 - val_loss: 10.0709 - val_mae: 2.5113\n",
            "Epoch 9/10\n",
            "655/655 [==============================] - 23s 35ms/step - loss: 5.4334 - mae: 1.8308 - val_loss: 10.4859 - val_mae: 2.5709\n",
            "Epoch 10/10\n",
            "655/655 [==============================] - 22s 33ms/step - loss: 5.3405 - mae: 1.8146 - val_loss: 10.3097 - val_mae: 2.5670\n",
            "2130/2130 [==============================] - 40s 19ms/step - loss: 9.3406 - mae: 2.3943\n",
            "Test MAE: 2.39\n"
          ]
        }
      ]
    },
    {
      "cell_type": "markdown",
      "source": [
        "**Plotting the results**"
      ],
      "metadata": {
        "id": "lS-zHGCRZLQI"
      }
    },
    {
      "cell_type": "code",
      "source": [
        "import matplotlib.pyplot as plt\n",
        "loss = history.history[\"mae\"]\n",
        "validation_loss = history.history[\"val_mae\"]\n",
        "epochs = range(1, len(loss) + 1)\n",
        "plt.figure()\n",
        "plt.plot(epochs, loss, \"bo\", label=\"Training MAE\")\n",
        "plt.plot(epochs, validation_loss, \"b\", label=\"Validation MAE\")\n",
        "plt.title(\"Training and validation MAE\")\n",
        "plt.legend()\n",
        "plt.show()\n"
      ],
      "metadata": {
        "colab": {
          "base_uri": "https://localhost:8080/",
          "height": 452
        },
        "id": "MMD2f-dFZOWQ",
        "outputId": "8e14ed09-be7e-4045-cfd9-f2d800b404fb"
      },
      "execution_count": 23,
      "outputs": [
        {
          "output_type": "display_data",
          "data": {
            "text/plain": [
              "<Figure size 640x480 with 1 Axes>"
            ],
            "image/png": "[encoded data removed]"
          },
          "metadata": {}
        }
      ]
    },
    {
      "cell_type": "markdown",
      "source": [
        "##Attempting a try to  1D convolutional model"
      ],
      "metadata": {
        "id": "Zi4JHhg0ZYzf"
      }
    },
    {
      "cell_type": "code",
      "source": [
        "inputs = keras.Input(shape=(sequence_length, raw_data.shape[-1]))\n",
        "x = layers.Conv1D(8, 24, activation=\"relu\")(inputs)\n",
        "x = layers.MaxPooling1D(2)(x)\n",
        "x = layers.Conv1D(8, 12, activation=\"relu\")(x)\n",
        "x = layers.MaxPooling1D(2)(x)\n",
        "x = layers.Conv1D(8, 6, activation=\"relu\")(x)\n",
        "x = layers.GlobalAveragePooling1D()(x)\n",
        "outputs = layers.Dense(1)(x)\n",
        "model = keras.Model(inputs, outputs)\n",
        "callbacks = [\n",
        "keras.callbacks.ModelCheckpoint(\"jena_conv.x\",\n",
        "save_best_only=True)\n",
        "]\n",
        "model.compile(optimizer=\"rmsprop\", loss=\"mse\", metrics=[\"mae\"])\n",
        "history = model.fit(training_dataset,\n",
        "epochs=10,\n",
        "validation_data=validation_dataset,\n",
        "callbacks=callbacks)\n",
        "model = keras.models.load_model(\"jena_conv.x\")\n",
        "print(f\"Test MAE: {model.evaluate(test_dataset)[1]:.2f}\")"
      ],
      "metadata": {
        "colab": {
          "base_uri": "https://localhost:8080/"
        },
        "id": "Y1ocC91EZXzn",
        "outputId": "29a50b33-2f5c-46e2-9d65-f7e7e0e9361d"
      },
      "execution_count": 24,
      "outputs": [
        {
          "output_type": "stream",
          "name": "stdout",
          "text": [
            "Epoch 1/10\n",
            "655/655 [==============================] - 32s 46ms/step - loss: 14.7395 - mae: 2.9227 - val_loss: 11.8752 - val_mae: 2.6896\n",
            "Epoch 2/10\n",
            "655/655 [==============================] - 32s 49ms/step - loss: 9.0614 - mae: 2.3545 - val_loss: 10.7291 - val_mae: 2.5646\n",
            "Epoch 3/10\n",
            "655/655 [==============================] - 29s 44ms/step - loss: 8.2258 - mae: 2.2422 - val_loss: 11.1684 - val_mae: 2.6210\n",
            "Epoch 4/10\n",
            "655/655 [==============================] - 30s 45ms/step - loss: 7.7019 - mae: 2.1710 - val_loss: 11.1841 - val_mae: 2.6072\n",
            "Epoch 5/10\n",
            "655/655 [==============================] - 31s 47ms/step - loss: 7.3335 - mae: 2.1217 - val_loss: 10.8455 - val_mae: 2.5453\n",
            "Epoch 6/10\n",
            "655/655 [==============================] - 29s 45ms/step - loss: 7.0385 - mae: 2.0813 - val_loss: 11.9560 - val_mae: 2.7121\n",
            "Epoch 7/10\n",
            "655/655 [==============================] - 43s 66ms/step - loss: 6.8033 - mae: 2.0483 - val_loss: 13.3366 - val_mae: 2.8545\n",
            "Epoch 8/10\n",
            "655/655 [==============================] - 38s 58ms/step - loss: 6.6118 - mae: 2.0229 - val_loss: 11.5860 - val_mae: 2.6665\n",
            "Epoch 9/10\n",
            "655/655 [==============================] - 41s 62ms/step - loss: 6.4445 - mae: 1.9994 - val_loss: 11.6003 - val_mae: 2.6460\n",
            "Epoch 10/10\n",
            "655/655 [==============================] - 39s 59ms/step - loss: 6.2454 - mae: 1.9692 - val_loss: 11.0978 - val_mae: 2.6026\n",
            "2130/2130 [==============================] - 49s 23ms/step - loss: 10.9590 - mae: 2.5960\n",
            "Test MAE: 2.60\n"
          ]
        }
      ]
    },
    {
      "cell_type": "markdown",
      "source": [
        "##An initial recurring baseline"
      ],
      "metadata": {
        "id": "l9Qq65izZ3Te"
      }
    },
    {
      "cell_type": "markdown",
      "source": [
        "**A basic model based on LSTM**"
      ],
      "metadata": {
        "id": "-u4SqSliaFyB"
      }
    },
    {
      "cell_type": "code",
      "source": [
        "inputs = keras.Input(shape=(sequence_length, raw_data.shape[-1]))\n",
        "x = layers.LSTM(16)(inputs)\n",
        "outputs = layers.Dense(1)(x)\n",
        "model = keras.Model(inputs, outputs)\n",
        "callbacks = [\n",
        "keras.callbacks.ModelCheckpoint(\"jena_lstm.x\",\n",
        "save_best_only=True)\n",
        "]\n",
        "model.compile(optimizer=\"rmsprop\", loss=\"mse\", metrics=[\"mae\"])\n",
        "history = model.fit(training_dataset,\n",
        "epochs=10,\n",
        "validation_data=validation_dataset,\n",
        "callbacks=callbacks)\n",
        "model = keras.models.load_model(\"jena_lstm.x\")\n",
        "print(f\"Test MAE: {model.evaluate(test_dataset)[1]:.2f}\")\n"
      ],
      "metadata": {
        "colab": {
          "base_uri": "https://localhost:8080/"
        },
        "id": "m0y7dTlMaIec",
        "outputId": "66abebb7-268a-4c50-f087-cbccd1b25587"
      },
      "execution_count": 25,
      "outputs": [
        {
          "output_type": "stream",
          "name": "stdout",
          "text": [
            "Epoch 1/10\n",
            "655/655 [==============================] - 51s 75ms/step - loss: 50.5629 - mae: 5.2006 - val_loss: 16.9839 - val_mae: 3.1898\n",
            "Epoch 2/10\n",
            "655/655 [==============================] - 46s 69ms/step - loss: 11.6069 - mae: 2.5661 - val_loss: 11.1847 - val_mae: 2.6380\n",
            "Epoch 3/10\n",
            "655/655 [==============================] - 49s 75ms/step - loss: 8.0824 - mae: 2.1860 - val_loss: 10.9593 - val_mae: 2.5955\n",
            "Epoch 4/10\n",
            "655/655 [==============================] - 45s 69ms/step - loss: 7.2100 - mae: 2.0680 - val_loss: 11.1543 - val_mae: 2.6098\n",
            "Epoch 5/10\n",
            "655/655 [==============================] - 56s 86ms/step - loss: 6.7754 - mae: 2.0062 - val_loss: 10.9749 - val_mae: 2.5833\n",
            "Epoch 6/10\n",
            "655/655 [==============================] - 44s 67ms/step - loss: 6.3417 - mae: 1.9439 - val_loss: 11.8966 - val_mae: 2.6807\n",
            "Epoch 7/10\n",
            "655/655 [==============================] - 51s 78ms/step - loss: 6.0588 - mae: 1.9029 - val_loss: 11.3609 - val_mae: 2.6320\n",
            "Epoch 8/10\n",
            "655/655 [==============================] - 42s 64ms/step - loss: 5.8214 - mae: 1.8658 - val_loss: 11.4960 - val_mae: 2.6449\n",
            "Epoch 9/10\n",
            "655/655 [==============================] - 53s 80ms/step - loss: 5.6542 - mae: 1.8367 - val_loss: 11.7119 - val_mae: 2.6750\n",
            "Epoch 10/10\n",
            "655/655 [==============================] - 44s 68ms/step - loss: 5.4517 - mae: 1.8077 - val_loss: 11.6570 - val_mae: 2.6638\n",
            "2130/2130 [==============================] - 58s 27ms/step - loss: 10.9080 - mae: 2.5898\n",
            "Test MAE: 2.59\n"
          ]
        }
      ]
    },
    {
      "cell_type": "markdown",
      "source": [
        "##Detecting recurrent neural networks"
      ],
      "metadata": {
        "id": "zeI9t3GTaTNg"
      }
    },
    {
      "cell_type": "markdown",
      "source": [
        "**An RNN implementation in NumPy**"
      ],
      "metadata": {
        "id": "U4ch75yaaVoe"
      }
    },
    {
      "cell_type": "code",
      "source": [
        "import numpy as np\n",
        "timesteps = 50\n",
        "input_features = 32\n",
        "output_features = 64\n",
        "inputs = np.random.random((timesteps, input_features))\n",
        "state_t = np.zeros((output_features,))\n",
        "W = np.random.random((output_features, input_features))\n",
        "U = np.random.random((output_features, output_features))\n",
        "b = np.random.random((output_features,))\n",
        "successive_outputs = []\n",
        "for input_t in inputs:\n",
        "    output_t = np.tanh(np.dot(W, input_t) + np.dot(U, state_t) + b)\n",
        "    successive_outputs.append(output_t)\n",
        "    state_t = output_t\n",
        "final_output_sequence = np.stack(successive_outputs, axis=0)"
      ],
      "metadata": {
        "id": "nOlyNugSaVLn"
      },
      "execution_count": 27,
      "outputs": []
    },
    {
      "cell_type": "markdown",
      "source": [
        "##One of Keras's recurrent layers"
      ],
      "metadata": {
        "id": "HQwLdxbraqLN"
      }
    },
    {
      "cell_type": "markdown",
      "source": [
        "**A layer of an RNN capable of handling any length of sequence**"
      ],
      "metadata": {
        "id": "VG6Hli8ha40j"
      }
    },
    {
      "cell_type": "code",
      "source": [
        "num_features = 14\n",
        "inputs = keras.Input(shape=(None, num_features))\n",
        "outputs = layers.SimpleRNN(16)(inputs)\n"
      ],
      "metadata": {
        "id": "6vQggTHEbnt5"
      },
      "execution_count": 28,
      "outputs": []
    },
    {
      "cell_type": "markdown",
      "source": [
        "**An RNN layer that only provides the most recent output step**"
      ],
      "metadata": {
        "id": "W1dj8ulXa8b1"
      }
    },
    {
      "cell_type": "code",
      "source": [
        "num_features = 14\n",
        "steps = 80\n",
        "inputs = keras.Input(shape=(steps, num_features))\n",
        "outputs = layers.SimpleRNN(16, return_sequences=False)(inputs)\n",
        "print(outputs.shape)\n"
      ],
      "metadata": {
        "colab": {
          "base_uri": "https://localhost:8080/"
        },
        "id": "SJ5cZh6BboJg",
        "outputId": "e7c96ab0-4677-44de-91f4-a4f1647e681b"
      },
      "execution_count": 29,
      "outputs": [
        {
          "output_type": "stream",
          "name": "stdout",
          "text": [
            "(None, 16)\n"
          ]
        }
      ]
    },
    {
      "cell_type": "markdown",
      "source": [
        "**A layer of RNN that provides the complete output sequence**"
      ],
      "metadata": {
        "id": "aRHtEyUTbGTv"
      }
    },
    {
      "cell_type": "code",
      "source": [
        "num_features = 14\n",
        "steps = 80\n",
        "inputs = keras.Input(shape=(steps, num_features))\n",
        "outputs = layers.SimpleRNN(16, return_sequences=True)(inputs)\n",
        "print(outputs.shape)\n"
      ],
      "metadata": {
        "colab": {
          "base_uri": "https://localhost:8080/"
        },
        "id": "AseIuOXLbojO",
        "outputId": "91e44246-49f2-4cfc-e4ef-a3324ed32760"
      },
      "execution_count": 30,
      "outputs": [
        {
          "output_type": "stream",
          "name": "stdout",
          "text": [
            "(None, 80, 16)\n"
          ]
        }
      ]
    },
    {
      "cell_type": "markdown",
      "source": [
        "**Layer stacking for RNNs**"
      ],
      "metadata": {
        "id": "zhSGMBIhbQ32"
      }
    },
    {
      "cell_type": "code",
      "source": [
        "inputs = keras.Input(shape=(steps, num_features))\n",
        "x = layers.SimpleRNN(16, return_sequences=True)(inputs)\n",
        "x = layers.SimpleRNN(16, return_sequences=True)(x)\n",
        "outputs = layers.SimpleRNN(16)(x)"
      ],
      "metadata": {
        "id": "_b48RUjfapzS"
      },
      "execution_count": 31,
      "outputs": []
    },
    {
      "cell_type": "markdown",
      "source": [
        "##Substantial application of recurrent neural networks"
      ],
      "metadata": {
        "id": "vVYz6nlvdCmG"
      }
    },
    {
      "cell_type": "markdown",
      "source": [
        "##Managing overfitting with recurring dropout"
      ],
      "metadata": {
        "id": "0IpBFTLfdFPc"
      }
    },
    {
      "cell_type": "markdown",
      "source": [
        "**Training and testing a dropout-regularized long short-term memory (LSTM)**"
      ],
      "metadata": {
        "id": "0qYh_w0TdP8h"
      }
    },
    {
      "cell_type": "code",
      "source": [
        "inputs = keras.Input(shape=(sequence_length, raw_data.shape[-1]))\n",
        "x = layers.LSTM(16, recurrent_dropout=0.15)(inputs)\n",
        "x = layers.Dropout(0.3)(x)\n",
        "outputs = layers.Dense(1)(x)\n",
        "model = keras.Model(inputs, outputs)\n",
        "callbacks = [\n",
        "keras.callbacks.ModelCheckpoint(\"jena_lstm_dropout.x\",\n",
        "save_best_only=True)\n",
        "]\n",
        "model.compile(optimizer=\"rmsprop\", loss=\"mse\", metrics=[\"mae\"])\n",
        "history = model.fit(training_dataset,\n",
        "epochs=30,\n",
        "validation_data=validation_dataset,\n",
        "callbacks=callbacks)\n"
      ],
      "metadata": {
        "colab": {
          "base_uri": "https://localhost:8080/"
        },
        "id": "kzpIfvFhdmIk",
        "outputId": "ee81dc66-60a9-4e36-a995-c0da1228feba"
      },
      "execution_count": 32,
      "outputs": [
        {
          "output_type": "stream",
          "name": "stdout",
          "text": [
            "Epoch 1/30\n",
            "655/655 [==============================] - 79s 116ms/step - loss: 46.6460 - mae: 5.0230 - val_loss: 15.6712 - val_mae: 3.0919\n",
            "Epoch 2/30\n",
            "655/655 [==============================] - 81s 124ms/step - loss: 16.1501 - mae: 3.0617 - val_loss: 11.1307 - val_mae: 2.6333\n",
            "Epoch 3/30\n",
            "655/655 [==============================] - 83s 127ms/step - loss: 13.4490 - mae: 2.8216 - val_loss: 10.2204 - val_mae: 2.5055\n",
            "Epoch 4/30\n",
            "655/655 [==============================] - 74s 113ms/step - loss: 12.5972 - mae: 2.7258 - val_loss: 10.1979 - val_mae: 2.4934\n",
            "Epoch 5/30\n",
            "655/655 [==============================] - 76s 116ms/step - loss: 12.1476 - mae: 2.6785 - val_loss: 10.0998 - val_mae: 2.4759\n",
            "Epoch 6/30\n",
            "655/655 [==============================] - 75s 114ms/step - loss: 11.8037 - mae: 2.6454 - val_loss: 9.8226 - val_mae: 2.4522\n",
            "Epoch 7/30\n",
            "655/655 [==============================] - 79s 121ms/step - loss: 11.4185 - mae: 2.6018 - val_loss: 10.1755 - val_mae: 2.4968\n",
            "Epoch 8/30\n",
            "655/655 [==============================] - 75s 114ms/step - loss: 11.1074 - mae: 2.5677 - val_loss: 9.7836 - val_mae: 2.4348\n",
            "Epoch 9/30\n",
            "655/655 [==============================] - 76s 116ms/step - loss: 10.8598 - mae: 2.5343 - val_loss: 9.7216 - val_mae: 2.4286\n",
            "Epoch 10/30\n",
            "655/655 [==============================] - 74s 112ms/step - loss: 10.7224 - mae: 2.5199 - val_loss: 10.0288 - val_mae: 2.4608\n",
            "Epoch 11/30\n",
            "655/655 [==============================] - 80s 121ms/step - loss: 10.4749 - mae: 2.4928 - val_loss: 10.2008 - val_mae: 2.4991\n",
            "Epoch 12/30\n",
            "655/655 [==============================] - 79s 120ms/step - loss: 10.3059 - mae: 2.4775 - val_loss: 10.0728 - val_mae: 2.4816\n",
            "Epoch 13/30\n",
            "655/655 [==============================] - 79s 121ms/step - loss: 10.1252 - mae: 2.4562 - val_loss: 10.2194 - val_mae: 2.5043\n",
            "Epoch 14/30\n",
            "655/655 [==============================] - 74s 113ms/step - loss: 10.0279 - mae: 2.4462 - val_loss: 10.2253 - val_mae: 2.5065\n",
            "Epoch 15/30\n",
            "655/655 [==============================] - 80s 122ms/step - loss: 9.9028 - mae: 2.4294 - val_loss: 10.0630 - val_mae: 2.4892\n",
            "Epoch 16/30\n",
            "655/655 [==============================] - 73s 112ms/step - loss: 9.7649 - mae: 2.4102 - val_loss: 10.2660 - val_mae: 2.5255\n",
            "Epoch 17/30\n",
            "655/655 [==============================] - 81s 123ms/step - loss: 9.5980 - mae: 2.3960 - val_loss: 10.4061 - val_mae: 2.5404\n",
            "Epoch 18/30\n",
            "655/655 [==============================] - 74s 113ms/step - loss: 9.5607 - mae: 2.3893 - val_loss: 10.3566 - val_mae: 2.5406\n",
            "Epoch 19/30\n",
            "655/655 [==============================] - 73s 112ms/step - loss: 9.4003 - mae: 2.3732 - val_loss: 10.2269 - val_mae: 2.5102\n",
            "Epoch 20/30\n",
            "655/655 [==============================] - 74s 113ms/step - loss: 9.2663 - mae: 2.3516 - val_loss: 10.3161 - val_mae: 2.5290\n",
            "Epoch 21/30\n",
            "655/655 [==============================] - 73s 111ms/step - loss: 9.1463 - mae: 2.3384 - val_loss: 10.3908 - val_mae: 2.5532\n",
            "Epoch 22/30\n",
            "655/655 [==============================] - 74s 113ms/step - loss: 9.0436 - mae: 2.3281 - val_loss: 10.5441 - val_mae: 2.5717\n",
            "Epoch 23/30\n",
            "655/655 [==============================] - 80s 122ms/step - loss: 8.9919 - mae: 2.3209 - val_loss: 10.2924 - val_mae: 2.5271\n",
            "Epoch 24/30\n",
            "655/655 [==============================] - 79s 121ms/step - loss: 8.8852 - mae: 2.3054 - val_loss: 10.5166 - val_mae: 2.5663\n",
            "Epoch 25/30\n",
            "655/655 [==============================] - 81s 124ms/step - loss: 8.8256 - mae: 2.3056 - val_loss: 10.7573 - val_mae: 2.5983\n",
            "Epoch 26/30\n",
            "655/655 [==============================] - 75s 114ms/step - loss: 8.8029 - mae: 2.2978 - val_loss: 10.4946 - val_mae: 2.5474\n",
            "Epoch 27/30\n",
            "655/655 [==============================] - 76s 116ms/step - loss: 8.6582 - mae: 2.2800 - val_loss: 10.5855 - val_mae: 2.5621\n",
            "Epoch 28/30\n",
            "655/655 [==============================] - 81s 123ms/step - loss: 8.6178 - mae: 2.2725 - val_loss: 10.6577 - val_mae: 2.5804\n",
            "Epoch 29/30\n",
            "655/655 [==============================] - 82s 124ms/step - loss: 8.4847 - mae: 2.2573 - val_loss: 10.9444 - val_mae: 2.6117\n",
            "Epoch 30/30\n",
            "655/655 [==============================] - 75s 114ms/step - loss: 8.4918 - mae: 2.2553 - val_loss: 10.7204 - val_mae: 2.5868\n"
          ]
        }
      ]
    },
    {
      "cell_type": "code",
      "source": [
        "inputs = keras.Input(shape=(sequence_length, num_features))\n",
        "x = layers.LSTM(16, recurrent_dropout=0.1, unroll=True)(inputs)"
      ],
      "metadata": {
        "id": "8ArMS5lkpUBE"
      },
      "execution_count": 34,
      "outputs": []
    },
    {
      "cell_type": "markdown",
      "source": [
        "##stacking layers of recurrent"
      ],
      "metadata": {
        "id": "nYYWykYCduwi"
      }
    },
    {
      "cell_type": "markdown",
      "source": [
        "**Training and evaluation of a stacked GRU model with dropout regularization**"
      ],
      "metadata": {
        "id": "Palpjx2eeSGo"
      }
    },
    {
      "cell_type": "code",
      "source": [
        "inputs = keras.Input(shape=(sequence_length, raw_data.shape[-1]))\n",
        "x = layers.GRU(16, recurrent_dropout=0.2, return_sequences=True)(inputs)\n",
        "x = layers.GRU(16, recurrent_dropout=0.2)(x)\n",
        "x = layers.Dropout(0.2 )(x)\n",
        "outputs = layers.Dense(1)(x)\n",
        "model = keras.Model(inputs, outputs)\n",
        "callbacks = [\n",
        "keras.callbacks.ModelCheckpoint(\"jena_stacked_gru_dropout.x\",\n",
        "save_best_only=True)\n",
        "]\n",
        "model.compile(optimizer=\"rmsprop\", loss=\"mse\", metrics=[\"mae\"])\n",
        "history = model.fit(training_dataset,\n",
        "epochs=30,\n",
        "validation_data=validation_dataset,\n",
        "callbacks=callbacks)\n",
        "model = keras.models.load_model(\"jena_stacked_gru_dropout.x\")\n",
        "print(f\"Test MAE: {model.evaluate(test_dataset)[1]:.2f}\")"
      ],
      "metadata": {
        "colab": {
          "base_uri": "https://localhost:8080/"
        },
        "id": "gwvYjYl4ed-e",
        "outputId": "41ab9126-9b0f-4fb0-e105-9a2f6fa35948"
      },
      "execution_count": 35,
      "outputs": [
        {
          "output_type": "stream",
          "name": "stdout",
          "text": [
            "Epoch 1/30\n",
            "655/655 [==============================] - 127s 188ms/step - loss: 43.2997 - mae: 4.7523 - val_loss: 14.9114 - val_mae: 2.9821\n",
            "Epoch 2/30\n",
            "655/655 [==============================] - 124s 189ms/step - loss: 13.1333 - mae: 2.7672 - val_loss: 10.6994 - val_mae: 2.5722\n",
            "Epoch 3/30\n",
            "655/655 [==============================] - 125s 190ms/step - loss: 10.8614 - mae: 2.5579 - val_loss: 10.0293 - val_mae: 2.4763\n",
            "Epoch 4/30\n",
            "655/655 [==============================] - 123s 188ms/step - loss: 10.3191 - mae: 2.5000 - val_loss: 9.6948 - val_mae: 2.4339\n",
            "Epoch 5/30\n",
            "655/655 [==============================] - 118s 180ms/step - loss: 9.8812 - mae: 2.4476 - val_loss: 9.8532 - val_mae: 2.4456\n",
            "Epoch 6/30\n",
            "655/655 [==============================] - 123s 187ms/step - loss: 9.5483 - mae: 2.4075 - val_loss: 9.4724 - val_mae: 2.3989\n",
            "Epoch 7/30\n",
            "655/655 [==============================] - 116s 177ms/step - loss: 9.3022 - mae: 2.3728 - val_loss: 9.6275 - val_mae: 2.4306\n",
            "Epoch 8/30\n",
            "655/655 [==============================] - 118s 181ms/step - loss: 9.0599 - mae: 2.3415 - val_loss: 10.2139 - val_mae: 2.5019\n",
            "Epoch 9/30\n",
            "655/655 [==============================] - 118s 180ms/step - loss: 8.8280 - mae: 2.3159 - val_loss: 10.0350 - val_mae: 2.4981\n",
            "Epoch 10/30\n",
            "655/655 [==============================] - 118s 180ms/step - loss: 8.6222 - mae: 2.2859 - val_loss: 9.7144 - val_mae: 2.4565\n",
            "Epoch 11/30\n",
            "655/655 [==============================] - 113s 173ms/step - loss: 8.4435 - mae: 2.2691 - val_loss: 9.9572 - val_mae: 2.4872\n",
            "Epoch 12/30\n",
            "655/655 [==============================] - 114s 174ms/step - loss: 8.2697 - mae: 2.2399 - val_loss: 10.1787 - val_mae: 2.5145\n",
            "Epoch 13/30\n",
            "655/655 [==============================] - 116s 177ms/step - loss: 8.0350 - mae: 2.2115 - val_loss: 9.9759 - val_mae: 2.4838\n",
            "Epoch 14/30\n",
            "655/655 [==============================] - 116s 177ms/step - loss: 7.8863 - mae: 2.1895 - val_loss: 10.0350 - val_mae: 2.4916\n",
            "Epoch 15/30\n",
            "655/655 [==============================] - 116s 176ms/step - loss: 7.6996 - mae: 2.1631 - val_loss: 10.1068 - val_mae: 2.5060\n",
            "Epoch 16/30\n",
            "655/655 [==============================] - 113s 173ms/step - loss: 7.5872 - mae: 2.1511 - val_loss: 10.6825 - val_mae: 2.5581\n",
            "Epoch 17/30\n",
            "655/655 [==============================] - 115s 176ms/step - loss: 7.4500 - mae: 2.1350 - val_loss: 10.5438 - val_mae: 2.5598\n",
            "Epoch 18/30\n",
            "655/655 [==============================] - 116s 177ms/step - loss: 7.3015 - mae: 2.1095 - val_loss: 11.0763 - val_mae: 2.6072\n",
            "Epoch 19/30\n",
            "655/655 [==============================] - 113s 173ms/step - loss: 7.1457 - mae: 2.0874 - val_loss: 10.3166 - val_mae: 2.5273\n",
            "Epoch 20/30\n",
            "655/655 [==============================] - 113s 172ms/step - loss: 7.0808 - mae: 2.0796 - val_loss: 10.4678 - val_mae: 2.5331\n",
            "Epoch 21/30\n",
            "655/655 [==============================] - 113s 172ms/step - loss: 6.8755 - mae: 2.0531 - val_loss: 11.1543 - val_mae: 2.6177\n",
            "Epoch 22/30\n",
            "655/655 [==============================] - 115s 175ms/step - loss: 6.7650 - mae: 2.0366 - val_loss: 10.8317 - val_mae: 2.6008\n",
            "Epoch 23/30\n",
            "655/655 [==============================] - 116s 177ms/step - loss: 6.6383 - mae: 2.0131 - val_loss: 10.6265 - val_mae: 2.5483\n",
            "Epoch 24/30\n",
            "655/655 [==============================] - 114s 173ms/step - loss: 6.5391 - mae: 2.0021 - val_loss: 10.8036 - val_mae: 2.5710\n",
            "Epoch 25/30\n",
            "655/655 [==============================] - 117s 178ms/step - loss: 6.4123 - mae: 1.9803 - val_loss: 11.5125 - val_mae: 2.6482\n",
            "Epoch 26/30\n",
            "655/655 [==============================] - 117s 178ms/step - loss: 6.3288 - mae: 1.9688 - val_loss: 11.1546 - val_mae: 2.6041\n",
            "Epoch 27/30\n",
            "655/655 [==============================] - 113s 173ms/step - loss: 6.2562 - mae: 1.9554 - val_loss: 10.9530 - val_mae: 2.5971\n",
            "Epoch 28/30\n",
            "655/655 [==============================] - 112s 170ms/step - loss: 6.0455 - mae: 1.9272 - val_loss: 11.0847 - val_mae: 2.6086\n",
            "Epoch 29/30\n",
            "655/655 [==============================] - 116s 177ms/step - loss: 6.0151 - mae: 1.9199 - val_loss: 11.3167 - val_mae: 2.6436\n",
            "Epoch 30/30\n",
            "655/655 [==============================] - 117s 178ms/step - loss: 5.9904 - mae: 1.9171 - val_loss: 11.2169 - val_mae: 2.6403\n",
            "2130/2130 [==============================] - 88s 41ms/step - loss: 8.6778 - mae: 2.2986\n",
            "Test MAE: 2.30\n"
          ]
        }
      ]
    },
    {
      "cell_type": "markdown",
      "source": [
        "##Using RNNs in both directions"
      ],
      "metadata": {
        "id": "1dldKVyRe2e5"
      }
    },
    {
      "cell_type": "markdown",
      "source": [
        "**Training and evaluation of a bidirectional LSTM**"
      ],
      "metadata": {
        "id": "IMHaxbzae5Y1"
      }
    },
    {
      "cell_type": "code",
      "source": [
        "inputs = keras.Input(shape=(sequence_length, raw_data.shape[-1]))\n",
        "x = layers.Bidirectional(layers.LSTM(8))(inputs)\n",
        "outputs = layers.Dense(1)(x)\n",
        "model = keras.Model(inputs, outputs)\n",
        "model.compile(optimizer=\"rmsprop\", loss=\"mse\", metrics=[\"mae\"])\n",
        "history = model.fit(training_dataset,\n",
        "epochs=10,\n",
        "validation_data=validation_dataset)\n"
      ],
      "metadata": {
        "colab": {
          "base_uri": "https://localhost:8080/"
        },
        "id": "9uwdAZfoe42l",
        "outputId": "d3f23edd-272a-4937-8854-dafbe326fa7d"
      },
      "execution_count": 37,
      "outputs": [
        {
          "output_type": "stream",
          "name": "stdout",
          "text": [
            "Epoch 1/10\n",
            "655/655 [==============================] - 70s 101ms/step - loss: 57.3354 - mae: 5.6161 - val_loss: 20.3978 - val_mae: 3.5417\n",
            "Epoch 2/10\n",
            "655/655 [==============================] - 63s 96ms/step - loss: 13.9892 - mae: 2.8546 - val_loss: 13.9512 - val_mae: 2.9660\n",
            "Epoch 3/10\n",
            "655/655 [==============================] - 62s 95ms/step - loss: 9.6417 - mae: 2.4013 - val_loss: 12.1398 - val_mae: 2.7689\n",
            "Epoch 4/10\n",
            "655/655 [==============================] - 64s 97ms/step - loss: 8.1547 - mae: 2.2053 - val_loss: 12.0951 - val_mae: 2.7595\n",
            "Epoch 5/10\n",
            "655/655 [==============================] - 55s 84ms/step - loss: 7.4348 - mae: 2.1088 - val_loss: 11.8200 - val_mae: 2.7158\n",
            "Epoch 6/10\n",
            "655/655 [==============================] - 66s 100ms/step - loss: 6.9947 - mae: 2.0492 - val_loss: 11.7916 - val_mae: 2.7009\n",
            "Epoch 7/10\n",
            "655/655 [==============================] - 59s 90ms/step - loss: 6.6781 - mae: 2.0079 - val_loss: 11.9872 - val_mae: 2.7246\n",
            "Epoch 8/10\n",
            "655/655 [==============================] - 65s 99ms/step - loss: 6.4184 - mae: 1.9732 - val_loss: 12.2285 - val_mae: 2.7486\n",
            "Epoch 9/10\n",
            "655/655 [==============================] - 59s 90ms/step - loss: 6.2022 - mae: 1.9419 - val_loss: 12.1546 - val_mae: 2.7356\n",
            "Epoch 10/10\n",
            "655/655 [==============================] - 60s 91ms/step - loss: 5.9867 - mae: 1.9069 - val_loss: 12.4592 - val_mae: 2.7646\n"
          ]
        }
      ]
    }
  ]
}